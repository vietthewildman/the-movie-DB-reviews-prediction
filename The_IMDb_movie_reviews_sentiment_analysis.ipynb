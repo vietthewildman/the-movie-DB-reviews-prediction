{
  "cells": [
    {
      "cell_type": "markdown",
      "metadata": {
        "id": "d5f5FuKI-6_l"
      },
      "source": [
        "# Installing packages and data"
      ]
    },
    {
      "cell_type": "markdown",
      "metadata": {
        "id": "Vq2LO2Es_DKr"
      },
      "source": [
        "## Packages"
      ]
    },
    {
      "cell_type": "code",
      "execution_count": null,
      "metadata": {
        "id": "7QS3gQO6-d3H"
      },
      "outputs": [],
      "source": [
        "from keras.datasets import imdb\n",
        "from keras.preprocessing import sequence\n",
        "from keras.models import Sequential\n",
        "from keras.layers import Embedding\n",
        "from keras.layers import LSTM\n",
        "from keras.layers import Dense\n",
        "\n"
      ]
    },
    {
      "cell_type": "code",
      "execution_count": null,
      "metadata": {
        "id": "aY7YCIWtDigZ"
      },
      "outputs": [],
      "source": [
        "from sklearn.metrics import confusion_matrix\n",
        "import seaborn as sns\n",
        "from matplotlib import pyplot as plt"
      ]
    },
    {
      "cell_type": "markdown",
      "metadata": {
        "id": "MmX5epW4_HFq"
      },
      "source": [
        "## Dataset"
      ]
    },
    {
      "cell_type": "code",
      "execution_count": null,
      "metadata": {
        "colab": {
          "base_uri": "https://localhost:8080/"
        },
        "id": "WDMITpzK_JWl",
        "outputId": "ea21de1f-5238-463e-a676-3cbdaa86694d"
      },
      "outputs": [
        {
          "name": "stdout",
          "output_type": "stream",
          "text": [
            "Downloading data from https://storage.googleapis.com/tensorflow/tf-keras-datasets/imdb.npz\n",
            "17465344/17464789 [==============================] - 0s 0us/step\n",
            "17473536/17464789 [==============================] - 0s 0us/step\n"
          ]
        }
      ],
      "source": [
        "training_set, testing_set = imdb.load_data(num_words = 10000)\n",
        "X_train, y_train = training_set\n",
        "X_test, y_test = testing_set"
      ]
    },
    {
      "cell_type": "markdown",
      "metadata": {
        "id": "XkMpDBX8BQbp"
      },
      "source": [
        "`num_words` defines the maximum number of unique word to be loaded."
      ]
    },
    {
      "cell_type": "code",
      "execution_count": null,
      "metadata": {
        "colab": {
          "base_uri": "https://localhost:8080/"
        },
        "id": "r0LlsCfx_Qo9",
        "outputId": "729f57f5-c46f-4cbc-99a8-c4f3866051c3"
      },
      "outputs": [
        {
          "name": "stdout",
          "output_type": "stream",
          "text": [
            "[1, 14, 22, 16, 43, 530, 973, 1622, 1385, 65, 458, 4468, 66, 3941, 4, 173, 36, 256, 5, 25, 100, 43, 838, 112, 50, 670, 2, 9, 35, 480, 284, 5, 150, 4, 172, 112, 167, 2, 336, 385, 39, 4, 172, 4536, 1111, 17, 546, 38, 13, 447, 4, 192, 50, 16, 6, 147, 2025, 19, 14, 22, 4, 1920, 4613, 469, 4, 22, 71, 87, 12, 16, 43, 530, 38, 76, 15, 13, 1247, 4, 22, 17, 515, 17, 12, 16, 626, 18, 2, 5, 62, 386, 12, 8, 316, 8, 106, 5, 4, 2223, 5244, 16, 480, 66, 3785, 33, 4, 130, 12, 16, 38, 619, 5, 25, 124, 51, 36, 135, 48, 25, 1415, 33, 6, 22, 12, 215, 28, 77, 52, 5, 14, 407, 16, 82, 2, 8, 4, 107, 117, 5952, 15, 256, 4, 2, 7, 3766, 5, 723, 36, 71, 43, 530, 476, 26, 400, 317, 46, 7, 4, 2, 1029, 13, 104, 88, 4, 381, 15, 297, 98, 32, 2071, 56, 26, 141, 6, 194, 7486, 18, 4, 226, 22, 21, 134, 476, 26, 480, 5, 144, 30, 5535, 18, 51, 36, 28, 224, 92, 25, 104, 4, 226, 65, 16, 38, 1334, 88, 12, 16, 283, 5, 16, 4472, 113, 103, 32, 15, 16, 5345, 19, 178, 32]\n"
          ]
        }
      ],
      "source": [
        "# Let's print out some example\n",
        "print(X_train[0])"
      ]
    },
    {
      "cell_type": "markdown",
      "metadata": {
        "id": "UQ7lyTWx_PBl"
      },
      "source": [
        "We see a sequence of numbers as the data has already been encoded. We can convert the review back to words, using the built-in word-to-index dictionary provided by Keras as part of the dataset"
      ]
    },
    {
      "cell_type": "code",
      "execution_count": null,
      "metadata": {
        "colab": {
          "base_uri": "https://localhost:8080/"
        },
        "id": "oqwqweUmANtb",
        "outputId": "b906427f-45af-484d-ae9e-7a0afb5d280c"
      },
      "outputs": [
        {
          "name": "stdout",
          "output_type": "stream",
          "text": [
            "Downloading data from https://storage.googleapis.com/tensorflow/tf-keras-datasets/imdb_word_index.json\n",
            "1646592/1641221 [==============================] - 0s 0us/step\n",
            "1654784/1641221 [==============================] - 0s 0us/step\n"
          ]
        }
      ],
      "source": [
        "word_to_id = imdb.get_word_index()\n",
        "word_to_id = {key:(value+3) for key,value in word_to_id.items()}\n",
        "word_to_id[\"<PAD>\"] = 0\n",
        "word_to_id[\"<START>\"] = 1\n",
        "id_to_word = {value:key for key,value in word_to_id.items()}"
      ]
    },
    {
      "cell_type": "code",
      "execution_count": null,
      "metadata": {
        "colab": {
          "base_uri": "https://localhost:8080/"
        },
        "id": "vbiUZ7f9AdPF",
        "outputId": "cbd6a357-8a3f-4069-8a69-19aa42a0740d"
      },
      "outputs": [
        {
          "name": "stdout",
          "output_type": "stream",
          "text": [
            "<START> a rating of 1 does not begin to express how dull depressing and relentlessly bad this movie is\n"
          ]
        }
      ],
      "source": [
        "print(' '.join(id_to_word[id] for id in X_train[159] ))"
      ]
    },
    {
      "cell_type": "code",
      "execution_count": null,
      "metadata": {
        "colab": {
          "base_uri": "https://localhost:8080/"
        },
        "id": "nXhYCClcAiNk",
        "outputId": "27b7c3bc-962f-477f-d88d-c387ba568e2f"
      },
      "outputs": [
        {
          "name": "stdout",
          "output_type": "stream",
          "text": [
            "0\n"
          ]
        }
      ],
      "source": [
        "# Let's print out the label of this comment\n",
        "print(y_train[159])"
      ]
    },
    {
      "cell_type": "code",
      "execution_count": null,
      "metadata": {
        "colab": {
          "base_uri": "https://localhost:8080/"
        },
        "id": "xrmSxypSAnp0",
        "outputId": "7b428edf-de23-42cf-9efe-0e45dd7cb0bc"
      },
      "outputs": [
        {
          "name": "stdout",
          "output_type": "stream",
          "text": [
            "Number of training samples = 25000\n",
            "Number of testing samples = 25000\n"
          ]
        }
      ],
      "source": [
        "print(\"Number of training samples = {}\".format(X_train.shape[0]))\n",
        "print(\"Number of testing samples = {}\".format(X_test.shape[0]))"
      ]
    },
    {
      "cell_type": "markdown",
      "metadata": {
        "id": "Z2bwVHE6B15H"
      },
      "source": [
        "## Add Padding / Truncate\n"
      ]
    },
    {
      "cell_type": "markdown",
      "metadata": {
        "id": "T5x5JDzDB4de"
      },
      "source": [
        "In order to standardize the input length so it can be fit into the model, we will have to add some \"padding\" into the data that less than 100, and truncate some reviews that is longer than 100 words length. (This could affect our data at some degree)."
      ]
    },
    {
      "cell_type": "code",
      "execution_count": null,
      "metadata": {
        "id": "bOQLoXQWCpkK"
      },
      "outputs": [],
      "source": [
        "X_train_padded = sequence.pad_sequences(X_train, maxlen= 100)\n",
        "X_test_padded = sequence.pad_sequences(X_test, maxlen= 100)"
      ]
    },
    {
      "cell_type": "markdown",
      "metadata": {
        "id": "VLxyK123CyY_"
      },
      "source": [
        "let's verify the vector length after zero padding"
      ]
    },
    {
      "cell_type": "code",
      "execution_count": null,
      "metadata": {
        "colab": {
          "base_uri": "https://localhost:8080/"
        },
        "id": "GgZYtrQZCt21",
        "outputId": "b5811f1e-62d2-4989-ee09-402cbc88e013"
      },
      "outputs": [
        {
          "name": "stdout",
          "output_type": "stream",
          "text": [
            "X_train vector shape = (25000, 100)\n",
            "X_test vector shape = (25000, 100)\n"
          ]
        }
      ],
      "source": [
        "print(\"X_train vector shape = {}\".format(X_train_padded.shape))\n",
        "print(\"X_test vector shape = {}\".format(X_test_padded.shape))"
      ]
    },
    {
      "cell_type": "markdown",
      "metadata": {
        "id": "zOgkb334C6Kf"
      },
      "source": [
        "# Model"
      ]
    },
    {
      "cell_type": "code",
      "execution_count": null,
      "metadata": {
        "id": "nSjeWCqXCz4E"
      },
      "outputs": [],
      "source": [
        "model = Sequential()"
      ]
    },
    {
      "cell_type": "code",
      "execution_count": null,
      "metadata": {
        "id": "E3CbpoZyDV6_"
      },
      "outputs": [],
      "source": [
        "# Let's add an Embedding layer to our model\n",
        "model.add(Embedding(input_dim = 10000, output_dim = 128))"
      ]
    },
    {
      "cell_type": "code",
      "execution_count": null,
      "metadata": {
        "id": "cqIuK2HpDlgY"
      },
      "outputs": [],
      "source": [
        "# LSTM layer to our model\n",
        "model.add(LSTM(units=128))"
      ]
    },
    {
      "cell_type": "code",
      "execution_count": null,
      "metadata": {
        "id": "fvKM0dSLDu7e"
      },
      "outputs": [],
      "source": [
        "# A dense layer to make sure our output has value of 0 and 1\n",
        "model.add(Dense(units=1, activation='sigmoid'))"
      ]
    },
    {
      "cell_type": "code",
      "execution_count": null,
      "metadata": {
        "colab": {
          "base_uri": "https://localhost:8080/"
        },
        "id": "a2I85GRED8oE",
        "outputId": "6d1be7cb-1582-4e36-bdb3-2ccae3c23089"
      },
      "outputs": [
        {
          "name": "stdout",
          "output_type": "stream",
          "text": [
            "Model: \"sequential\"\n",
            "_________________________________________________________________\n",
            " Layer (type)                Output Shape              Param #   \n",
            "=================================================================\n",
            " embedding (Embedding)       (None, None, 128)         1280000   \n",
            "                                                                 \n",
            " lstm (LSTM)                 (None, 128)               131584    \n",
            "                                                                 \n",
            " dense (Dense)               (None, 1)                 129       \n",
            "                                                                 \n",
            "=================================================================\n",
            "Total params: 1,411,713\n",
            "Trainable params: 1,411,713\n",
            "Non-trainable params: 0\n",
            "_________________________________________________________________\n"
          ]
        }
      ],
      "source": [
        "model.summary()"
      ]
    },
    {
      "cell_type": "code",
      "execution_count": null,
      "metadata": {
        "id": "8col7AYdEDmE"
      },
      "outputs": [],
      "source": [
        ""
      ]
    },
    {
      "cell_type": "markdown",
      "metadata": {
        "id": "paBebEe2GbIJ"
      },
      "source": [
        "# Train the model"
      ]
    },
    {
      "cell_type": "markdown",
      "metadata": {
        "id": "e-R1o9YOG7rx"
      },
      "source": [
        "Now, let's train our model for 10 epochs, using the testing set as the validation data"
      ]
    },
    {
      "cell_type": "markdown",
      "metadata": {
        "id": "EklQH8_KCHx6"
      },
      "source": [
        "In order to compare different versions of our model, let's define a function to create a model that takes Optimizer as an argument"
      ]
    },
    {
      "cell_type": "code",
      "execution_count": null,
      "metadata": {
        "id": "p113Cc_JG_pE"
      },
      "outputs": [],
      "source": [
        "def train_model(Optimizer, X_train, y_train, X_val, y_val):\n",
        "    model = Sequential()\n",
        "    model.add(Embedding(input_dim = 10000, output_dim = 128))\n",
        "    model.add(LSTM(units=128))\n",
        "    model.add(Dense(units=1, activation='sigmoid'))\n",
        "    model.compile(loss='binary_crossentropy', optimizer = Optimizer, \n",
        "                  metrics=['accuracy'])\n",
        "    scores = model.fit(X_train, y_train, batch_size=128, \n",
        "                       epochs=10, \n",
        "                       validation_data=(X_val, y_val), \n",
        "                       verbose=0)\n",
        "    return scores, model"
      ]
    },
    {
      "cell_type": "markdown",
      "metadata": {
        "id": "OD_IUMaOHKoz"
      },
      "source": [
        "Using this function, let's train three different models using three different optimizers, the SGD, RMSprop, and the adam optimizer"
      ]
    },
    {
      "cell_type": "code",
      "execution_count": null,
      "metadata": {
        "colab": {
          "background_save": true
        },
        "id": "xJpo0EFdHL7l"
      },
      "outputs": [],
      "source": [
        "SGD_score, SGD_model = train_model(Optimizer = 'sgd',\n",
        "                                   X_train=X_train_padded, \n",
        "                                   y_train=y_train, \n",
        "                                   X_val=X_test_padded,\n",
        "                                   y_val=y_test)\n",
        "\n",
        "RMSprop_score, RMSprop_model = train_model(Optimizer = 'RMSprop',\n",
        "                                           X_train=X_train_padded,\n",
        "                                           y_train=y_train,\n",
        "                                           X_val=X_test_padded,\n",
        "                                           y_val=y_test)\n",
        "\n",
        "Adam_score, Adam_model = train_model(Optimizer = 'adam',\n",
        "                                     X_train=X_train_padded,\n",
        "                                     y_train=y_train,\n",
        "                                     X_val=X_test_padded,\n",
        "                                     y_val=y_test)"
      ]
    },
    {
      "cell_type": "markdown",
      "metadata": {
        "id": "O7zN-Gr9CnGu"
      },
      "source": [
        "# Analyze the results"
      ]
    },
    {
      "cell_type": "markdown",
      "metadata": {
        "id": "BhUq-mbHDwA9"
      },
      "source": [
        "### Compare optimizers"
      ]
    },
    {
      "cell_type": "code",
      "execution_count": null,
      "metadata": {
        "colab": {
          "background_save": true
        },
        "id": "DiSKDFW0HOh0",
        "outputId": "921bdb9e-1472-4c49-d30f-6878d64d1d4f"
      },
      "outputs": [
        {
          "data": {
            "image/png": "[encoded data removed]",
            "text/plain": [
              "<Figure size 432x288 with 1 Axes>"
            ]
          },
          "metadata": {},
          "output_type": "display_data"
        }
      ],
      "source": [
        "# Model with SGD Optimizer\n",
        "plt.plot(range(1,11), SGD_score.history['accuracy'], label='Training Accuracy')\n",
        "plt.plot(range(1,11), SGD_score.history['val_accuracy'], \n",
        "         label='Validation Accuracy')\n",
        "plt.axis([1, 10, 0, 1])\n",
        "plt.xlabel('Epoch')\n",
        "plt.ylabel('Accuracy')\n",
        "plt.title('Train and Validation Accuracy using SGD Optimizer')\n",
        "plt.legend()\n",
        "plt.show()"
      ]
    },
    {
      "cell_type": "markdown",
      "metadata": {
        "id": "4wtjNHBCDCxc"
      },
      "source": [
        "The training and validation accuracy is stuck at 50%. Clearly, the `sgd` optimizer is not suitable for this dataset and this LSTM network"
      ]
    },
    {
      "cell_type": "code",
      "execution_count": null,
      "metadata": {
        "colab": {
          "background_save": true
        },
        "id": "WH7ZBxapDGrm",
        "outputId": "477a8707-470c-47f8-b6b6-e52c1b5a6fdd"
      },
      "outputs": [
        {
          "data": {
            "image/png": "[encoded data removed]",
            "text/plain": [
              "<Figure size 432x288 with 1 Axes>"
            ]
          },
          "metadata": {},
          "output_type": "display_data"
        }
      ],
      "source": [
        "# RMSprop Optimizer\n",
        "plt.plot(range(1,11), RMSprop_score.history['accuracy'], \n",
        "         label='Training Accuracy')\n",
        "plt.plot(range(1,11), RMSprop_score.history['val_accuracy'], \n",
        "         label='Validation Accuracy')\n",
        "plt.axis([1, 10, 0, 1])\n",
        "plt.xlabel('Epoch')\n",
        "plt.ylabel('Accuracy')\n",
        "plt.title('Train and Validation Accuracy using RMSprop Optimizer')\n",
        "plt.legend()\n",
        "plt.show()"
      ]
    },
    {
      "cell_type": "markdown",
      "metadata": {
        "id": "1ASR-narDIGN"
      },
      "source": [
        "Our model is able to achieve a training accuracy of more than 95% and a validation accuracy of around 85% with the `RMSprop` optimizer"
      ]
    },
    {
      "cell_type": "code",
      "execution_count": null,
      "metadata": {
        "colab": {
          "background_save": true
        },
        "id": "1Pkmv95JDTcl",
        "outputId": "c55c780b-b949-4ad9-a95a-e03918158b0a"
      },
      "outputs": [
        {
          "data": {
            "image/png": "[encoded data removed]",
            "text/plain": [
              "<Figure size 432x288 with 1 Axes>"
            ]
          },
          "metadata": {},
          "output_type": "display_data"
        }
      ],
      "source": [
        "# Adam optimizer\n",
        "plt.plot(range(1,11), Adam_score.history['accuracy'], label='Training Accuracy')\n",
        "plt.plot(range(1,11), Adam_score.history['val_accuracy'], \n",
        "         label='Validation Accuracy')\n",
        "plt.axis([1, 10, 0, 1])\n",
        "plt.xlabel('Epoch')\n",
        "plt.ylabel('Accuracy')\n",
        "plt.title('Train and Validation Accuracy using Adam Optimizer')\n",
        "plt.legend()\n",
        "plt.show()"
      ]
    },
    {
      "cell_type": "markdown",
      "metadata": {
        "id": "VM4HeXErDdEo"
      },
      "source": [
        "We can see that the Training Accuracy is almost 100% after 10 epochs, while the Validation Accuracy is around 80%. This gap of 20% suggests that overfitting is happening"
      ]
    },
    {
      "cell_type": "markdown",
      "metadata": {
        "id": "FaNJ89xND0dj"
      },
      "source": [
        "### Confusion Matrix"
      ]
    },
    {
      "cell_type": "code",
      "execution_count": 28,
      "metadata": {
        "colab": {
          "base_uri": "https://localhost:8080/",
          "height": 487
        },
        "id": "29cNWv9YD6tQ",
        "outputId": "5aa7fe5f-8430-442b-d6cf-aec936972cc3"
      },
      "outputs": [
        {
          "output_type": "execute_result",
          "data": {
            "text/plain": [
              "Text(56.499999999999986, 0.5, 'Actual')"
            ]
          },
          "metadata": {},
          "execution_count": 28
        },
        {
          "output_type": "display_data",
          "data": {
            "text/plain": [
              "<Figure size 720x504 with 1 Axes>"
            ],
            "image/png": "[encoded data removed]"
          },
          "metadata": {}
        }
      ],
      "source": [
        "plt.figure(figsize=(10,7))\n",
        "sns.set(font_scale=2)\n",
        "y_test_pred = RMSprop_model.predict(X_test_padded) > 0.5\n",
        "c_matrix = confusion_matrix(y_test, y_test_pred)\n",
        "ax = sns.heatmap(c_matrix, annot=True, xticklabels=['Negative Sentiment', \n",
        "                 'Positive Sentiment'], yticklabels=['Negative Sentiment', \n",
        "                 'Positive Sentiment'], cbar=False, cmap='Blues', fmt='g')\n",
        "ax.set_xlabel(\"Prediction\")\n",
        "ax.set_ylabel(\"Actual\")"
      ]
    },
    {
      "cell_type": "markdown",
      "metadata": {
        "id": "MJEQWcEwERld"
      },
      "source": [
        "Even our model is 85% accurate at predicting sentiment for movie reviews, it's noticable that the model's performance is great with the negative reviews but unreliable on the positive dataset: 1 on every 3 positive reviews are wrongly predicted! "
      ]
    },
    {
      "cell_type": "code",
      "execution_count": 30,
      "metadata": {
        "id": "0vxHnNWFETK8"
      },
      "outputs": [],
      "source": [
        "false_negatives = []\n",
        "false_positives = []\n",
        "\n",
        "for i in range(len(y_test_pred)):\n",
        "    if y_test_pred[i][0] != y_test[i]:\n",
        "        if y_test[i] == 0: # False Positive\n",
        "            false_positives.append(i)\n",
        "        else:\n",
        "            false_negatives.append(i)"
      ]
    },
    {
      "cell_type": "markdown",
      "source": [
        "# Next step"
      ],
      "metadata": {
        "id": "Qg4ic4WAgz6U"
      }
    },
    {
      "cell_type": "markdown",
      "source": [
        "It's clearly that the model needs to be improved on the positive dataset. There are several ways to achieve higher accuracy:\n",
        "1. Domain Specific Features in the Corpus\n",
        "2. Use An Exhaustive Stopword List\n",
        "3. Noise Free Corpus\n",
        "4. Eliminating features with extremely low frequency\n",
        "5. Normalized Corpus\n",
        "6. Use Complex Features: n-grams and part of speech tags"
      ],
      "metadata": {
        "id": "xuRajG2bg2-c"
      }
    }
  ],
  "metadata": {
    "colab": {
      "collapsed_sections": [
        "zOgkb334C6Kf",
        "paBebEe2GbIJ"
      ],
      "name": "The IMDb movie reviews sentiment analysis.ipynb",
      "toc_visible": true,
      "provenance": []
    },
    "kernelspec": {
      "display_name": "Python 3",
      "name": "python3"
    },
    "language_info": {
      "name": "python"
    }
  },
  "nbformat": 4,
  "nbformat_minor": 0
}