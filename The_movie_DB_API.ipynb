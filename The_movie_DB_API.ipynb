{
  "nbformat": 4,
  "nbformat_minor": 0,
  "metadata": {
    "colab": {
      "name": "The movie DB API",
      "provenance": [],
      "toc_visible": true,
      "collapsed_sections": [
        "DrTSVjR2c1UC",
        "gxs0x2gYQJxD"
      ],
      "authorship_tag": "ABX9TyOIAv8qGpeqPqxDV2KdOGZd",
      "include_colab_link": true
    },
    "kernelspec": {
      "name": "python3",
      "display_name": "Python 3"
    },
    "language_info": {
      "name": "python"
    }
  },
  "cells": [
    {
      "cell_type": "markdown",
      "metadata": {
        "id": "view-in-github",
        "colab_type": "text"
      },
      "source": [
        "<a href=\"https://colab.research.google.com/github/vietthewildman/the-movie-DB-reviews-prediction/blob/main/The_movie_DB_API.ipynb\" target=\"_parent\"><img src=\"https://colab.research.google.com/assets/colab-badge.svg\" alt=\"Open In Colab\"/></a>"
      ]
    },
    {
      "cell_type": "markdown",
      "source": [
        "# Setting up"
      ],
      "metadata": {
        "id": "DrTSVjR2c1UC"
      }
    },
    {
      "cell_type": "code",
      "execution_count": null,
      "metadata": {
        "id": "4xKoUDAQbmBy"
      },
      "outputs": [],
      "source": [
        "API_key = '6b2522138efcc01c2644bc6b18a7fbe8'"
      ]
    },
    {
      "cell_type": "markdown",
      "source": [
        "Packages Installation"
      ],
      "metadata": {
        "id": "OhutNb4H-1sT"
      }
    },
    {
      "cell_type": "code",
      "source": [
        "import requests\n",
        "import pandas as pd"
      ],
      "metadata": {
        "id": "6IR_U9o2-z1E"
      },
      "execution_count": null,
      "outputs": []
    },
    {
      "cell_type": "markdown",
      "source": [
        "**Client**\n",
        "[Documentation](https://developers.themoviedb.org/3)"
      ],
      "metadata": {
        "id": "weh5kK4peUHr"
      }
    },
    {
      "cell_type": "code",
      "source": [
        "from urllib.parse import urlencode"
      ],
      "metadata": {
        "id": "VK56HRbPf1ri"
      },
      "execution_count": null,
      "outputs": []
    },
    {
      "cell_type": "markdown",
      "source": [
        "# The Movie DB web-scraping"
      ],
      "metadata": {
        "id": "ppPkJ1hRB-jD"
      }
    },
    {
      "cell_type": "code",
      "source": [
        "api_version = 3\n",
        "sample = 'https://api.themoviedb.org/3/movie/550?api_key=6b2522138efcc01c2644bc6b18a7fbe8'\n",
        "base_url = f'https://api.themoviedb.org/{api_version}'"
      ],
      "metadata": {
        "id": "h0-7XBO5Au18"
      },
      "execution_count": null,
      "outputs": []
    },
    {
      "cell_type": "markdown",
      "source": [
        "# Search IDs by movie name"
      ],
      "metadata": {
        "id": "gxs0x2gYQJxD"
      }
    },
    {
      "cell_type": "markdown",
      "source": [
        "Search by movie names"
      ],
      "metadata": {
        "id": "N2SXz2ozGZ8y"
      }
    },
    {
      "cell_type": "code",
      "source": [
        "endpoint_path = f'/search/movie'\n",
        "movie_name = 'The Matrix'\n",
        "end_point = f'{base_url}{endpoint_path}?api_key={API_key}&query={movie_name}'\n"
      ],
      "metadata": {
        "id": "s-k-RlOueuDC"
      },
      "execution_count": null,
      "outputs": []
    },
    {
      "cell_type": "markdown",
      "source": [
        "Get IDs of related movies"
      ],
      "metadata": {
        "id": "RUSyFwXBK-oR"
      }
    },
    {
      "cell_type": "code",
      "source": [
        "r = requests.get(end_point)\n",
        "results = r.json()['results']\n",
        "\n",
        "if r.status_code in range(200, 300):\n",
        "  id_names = []\n",
        "  for result in results:\n",
        "    id_names.append([result['id'],result['title']])\n",
        "for i in id_names:\n",
        "  print(i)\n"
      ],
      "metadata": {
        "colab": {
          "base_uri": "https://localhost:8080/"
        },
        "id": "f3UcH3rHGhcp",
        "outputId": "5516a244-26e3-4184-f7ff-40fbf120bc64"
      },
      "execution_count": null,
      "outputs": [
        {
          "output_type": "stream",
          "name": "stdout",
          "text": [
            "[624860, 'The Matrix Resurrections']\n",
            "[603, 'The Matrix']\n",
            "[604, 'The Matrix Reloaded']\n",
            "[605, 'The Matrix Revolutions']\n",
            "[14543, 'The Matrix Revisited']\n",
            "[221495, 'The Matrix Recalibrated']\n",
            "[591955, 'The Matrix Reloaded Revisited']\n",
            "[684731, 'The Matrix Reloaded: Pre-Load']\n",
            "[684428, 'The Matrix: What Is Bullet-Time?']\n",
            "[684735, \"Making 'Enter the Matrix'\"]\n",
            "[696109, 'A Glitch in the Matrix']\n",
            "[503880, 'The Matrix Revolutions Revisited']\n",
            "[684431, \"Making 'The Matrix'\"]\n",
            "[274866, 'The Roots of the Matrix']\n",
            "[684729, 'The Matrix Reloaded: Car Chase']\n",
            "[344225, 'Sex and the Matrix']\n",
            "[505806, 'A Glitch in the Matrix']\n",
            "[919064, 'Me and The Matrix']\n",
            "[371610, 'David Icke - Secrets of the Matrix']\n",
            "[684744, 'The Matrix Revolutions: Double Agent Smith']\n"
          ]
        }
      ]
    },
    {
      "cell_type": "markdown",
      "source": [
        "# From IDs, get info of the movies"
      ],
      "metadata": {
        "id": "52leS6aPQTl-"
      }
    },
    {
      "cell_type": "code",
      "source": [
        "data = []\n",
        "for id_name in id_names:\n",
        "  movie_id = id_name[0]\n",
        "  movie_name = id_name[1]\n",
        "  endpoint_path = f'/movie/{movie_id}'\n",
        "  end_point = f'{base_url}{endpoint_path}?api_key={API_key}'\n",
        "  r = requests.get(end_point)\n",
        "  info = r.json()\n",
        "  if r.status_code in range(200, 300):\n",
        "    try:\n",
        "      genre = info['genres'][0]['name']\n",
        "    except:\n",
        "      genre = ''\n",
        "    vote_avg = info['vote_average']\n",
        "    vote_count = info['vote_count']\n",
        "    row = [movie_id, movie_name, genre, vote_avg, vote_count]\n",
        "  data.append(row)\n",
        "\n",
        "df = pd.DataFrame(data, columns=['movie_id', 'movie_name', 'genre', 'vote_avg', 'vote_count'])\n",
        "df.head()\n"
      ],
      "metadata": {
        "colab": {
          "base_uri": "https://localhost:8080/",
          "height": 206
        },
        "id": "chuA7i2cLFSo",
        "outputId": "306bc59d-0ee8-48fb-a36f-56408103028a"
      },
      "execution_count": null,
      "outputs": [
        {
          "output_type": "execute_result",
          "data": {
            "text/plain": [
              "   movie_id                movie_name            genre  vote_avg  vote_count\n",
              "0    624860  The Matrix Resurrections  Science Fiction       6.8        3494\n",
              "1       603                The Matrix           Action       8.2       21401\n",
              "2       604       The Matrix Reloaded        Adventure       7.0        8952\n",
              "3       605    The Matrix Revolutions        Adventure       6.7        8042\n",
              "4     14543      The Matrix Revisited      Documentary       6.9         155"
            ],
            "text/html": [
              "\n",
              "  <div id=\"df-a4f49eaa-efab-46cb-a347-4a1add896965\">\n",
              "    <div class=\"colab-df-container\">\n",
              "      <div>\n",
              "<style scoped>\n",
              "    .dataframe tbody tr th:only-of-type {\n",
              "        vertical-align: middle;\n",
              "    }\n",
              "\n",
              "    .dataframe tbody tr th {\n",
              "        vertical-align: top;\n",
              "    }\n",
              "\n",
              "    .dataframe thead th {\n",
              "        text-align: right;\n",
              "    }\n",
              "</style>\n",
              "<table border=\"1\" class=\"dataframe\">\n",
              "  <thead>\n",
              "    <tr style=\"text-align: right;\">\n",
              "      <th></th>\n",
              "      <th>movie_id</th>\n",
              "      <th>movie_name</th>\n",
              "      <th>genre</th>\n",
              "      <th>vote_avg</th>\n",
              "      <th>vote_count</th>\n",
              "    </tr>\n",
              "  </thead>\n",
              "  <tbody>\n",
              "    <tr>\n",
              "      <th>0</th>\n",
              "      <td>624860</td>\n",
              "      <td>The Matrix Resurrections</td>\n",
              "      <td>Science Fiction</td>\n",
              "      <td>6.8</td>\n",
              "      <td>3494</td>\n",
              "    </tr>\n",
              "    <tr>\n",
              "      <th>1</th>\n",
              "      <td>603</td>\n",
              "      <td>The Matrix</td>\n",
              "      <td>Action</td>\n",
              "      <td>8.2</td>\n",
              "      <td>21401</td>\n",
              "    </tr>\n",
              "    <tr>\n",
              "      <th>2</th>\n",
              "      <td>604</td>\n",
              "      <td>The Matrix Reloaded</td>\n",
              "      <td>Adventure</td>\n",
              "      <td>7.0</td>\n",
              "      <td>8952</td>\n",
              "    </tr>\n",
              "    <tr>\n",
              "      <th>3</th>\n",
              "      <td>605</td>\n",
              "      <td>The Matrix Revolutions</td>\n",
              "      <td>Adventure</td>\n",
              "      <td>6.7</td>\n",
              "      <td>8042</td>\n",
              "    </tr>\n",
              "    <tr>\n",
              "      <th>4</th>\n",
              "      <td>14543</td>\n",
              "      <td>The Matrix Revisited</td>\n",
              "      <td>Documentary</td>\n",
              "      <td>6.9</td>\n",
              "      <td>155</td>\n",
              "    </tr>\n",
              "  </tbody>\n",
              "</table>\n",
              "</div>\n",
              "      <button class=\"colab-df-convert\" onclick=\"convertToInteractive('df-a4f49eaa-efab-46cb-a347-4a1add896965')\"\n",
              "              title=\"Convert this dataframe to an interactive table.\"\n",
              "              style=\"display:none;\">\n",
              "        \n",
              "  <svg xmlns=\"http://www.w3.org/2000/svg\" height=\"24px\"viewBox=\"0 0 24 24\"\n",
              "       width=\"24px\">\n",
              "    <path d=\"M0 0h24v24H0V0z\" fill=\"none\"/>\n",
              "    <path d=\"M18.56 5.44l.94 2.06.94-2.06 2.06-.94-2.06-.94-.94-2.06-.94 2.06-2.06.94zm-11 1L8.5 8.5l.94-2.06 2.06-.94-2.06-.94L8.5 2.5l-.94 2.06-2.06.94zm10 10l.94 2.06.94-2.06 2.06-.94-2.06-.94-.94-2.06-.94 2.06-2.06.94z\"/><path d=\"M17.41 7.96l-1.37-1.37c-.4-.4-.92-.59-1.43-.59-.52 0-1.04.2-1.43.59L10.3 9.45l-7.72 7.72c-.78.78-.78 2.05 0 2.83L4 21.41c.39.39.9.59 1.41.59.51 0 1.02-.2 1.41-.59l7.78-7.78 2.81-2.81c.8-.78.8-2.07 0-2.86zM5.41 20L4 18.59l7.72-7.72 1.47 1.35L5.41 20z\"/>\n",
              "  </svg>\n",
              "      </button>\n",
              "      \n",
              "  <style>\n",
              "    .colab-df-container {\n",
              "      display:flex;\n",
              "      flex-wrap:wrap;\n",
              "      gap: 12px;\n",
              "    }\n",
              "\n",
              "    .colab-df-convert {\n",
              "      background-color: #E8F0FE;\n",
              "      border: none;\n",
              "      border-radius: 50%;\n",
              "      cursor: pointer;\n",
              "      display: none;\n",
              "      fill: #1967D2;\n",
              "      height: 32px;\n",
              "      padding: 0 0 0 0;\n",
              "      width: 32px;\n",
              "    }\n",
              "\n",
              "    .colab-df-convert:hover {\n",
              "      background-color: #E2EBFA;\n",
              "      box-shadow: 0px 1px 2px rgba(60, 64, 67, 0.3), 0px 1px 3px 1px rgba(60, 64, 67, 0.15);\n",
              "      fill: #174EA6;\n",
              "    }\n",
              "\n",
              "    [theme=dark] .colab-df-convert {\n",
              "      background-color: #3B4455;\n",
              "      fill: #D2E3FC;\n",
              "    }\n",
              "\n",
              "    [theme=dark] .colab-df-convert:hover {\n",
              "      background-color: #434B5C;\n",
              "      box-shadow: 0px 1px 3px 1px rgba(0, 0, 0, 0.15);\n",
              "      filter: drop-shadow(0px 1px 2px rgba(0, 0, 0, 0.3));\n",
              "      fill: #FFFFFF;\n",
              "    }\n",
              "  </style>\n",
              "\n",
              "      <script>\n",
              "        const buttonEl =\n",
              "          document.querySelector('#df-a4f49eaa-efab-46cb-a347-4a1add896965 button.colab-df-convert');\n",
              "        buttonEl.style.display =\n",
              "          google.colab.kernel.accessAllowed ? 'block' : 'none';\n",
              "\n",
              "        async function convertToInteractive(key) {\n",
              "          const element = document.querySelector('#df-a4f49eaa-efab-46cb-a347-4a1add896965');\n",
              "          const dataTable =\n",
              "            await google.colab.kernel.invokeFunction('convertToInteractive',\n",
              "                                                     [key], {});\n",
              "          if (!dataTable) return;\n",
              "\n",
              "          const docLinkHtml = 'Like what you see? Visit the ' +\n",
              "            '<a target=\"_blank\" href=https://colab.research.google.com/notebooks/data_table.ipynb>data table notebook</a>'\n",
              "            + ' to learn more about interactive tables.';\n",
              "          element.innerHTML = '';\n",
              "          dataTable['output_type'] = 'display_data';\n",
              "          await google.colab.output.renderOutput(dataTable, element);\n",
              "          const docLink = document.createElement('div');\n",
              "          docLink.innerHTML = docLinkHtml;\n",
              "          element.appendChild(docLink);\n",
              "        }\n",
              "      </script>\n",
              "    </div>\n",
              "  </div>\n",
              "  "
            ]
          },
          "metadata": {},
          "execution_count": 102
        }
      ]
    },
    {
      "cell_type": "markdown",
      "source": [
        "Get Info of movies in the list of IDS"
      ],
      "metadata": {
        "id": "ue1trDfnLcmp"
      }
    }
  ]
}